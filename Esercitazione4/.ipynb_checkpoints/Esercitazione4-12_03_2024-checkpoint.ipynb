{
 "cells": [
  {
   "cell_type": "markdown",
   "id": "b97be3ab-d6dd-495f-a342-e5e837cfb8bc",
   "metadata": {},
   "source": [
    "#                       Esercitazione 4 - 12 Marzo 2023"
   ]
  },
  {
   "cell_type": "markdown",
   "id": "8c87694a-727f-410f-a307-3f35f0dcc933",
   "metadata": {},
   "source": [
    "Esplorate le caratteristiche dell'insieme dei numeri di macchina F($\\beta$,t,L,U) sul vostro calcolatore utilizzando il comando sys.float_info, dopo aver importato im modulo sys:\n",
    "\n",
    "import sys\n",
    "\n",
    "print(sys.float_info)"
   ]
  },
  {
   "cell_type": "code",
   "execution_count": 9,
   "id": "41befe1d-4b51-40b3-a8bc-db8b2d2b886e",
   "metadata": {
    "tags": []
   },
   "outputs": [
    {
     "name": "stdout",
     "output_type": "stream",
     "text": [
      "sys.float_info(max=1.7976931348623157e+308, max_exp=1024, max_10_exp=308, min=2.2250738585072014e-308, min_exp=-1021, min_10_exp=-307, dig=15, mant_dig=53, epsilon=2.220446049250313e-16, radix=2, rounds=1)\n"
     ]
    }
   ],
   "source": [
    "import sys\n",
    "import numpy as np\n",
    "print(sys.float_info)"
   ]
  },
  {
   "cell_type": "markdown",
   "id": "82c24c2e-15d3-4e96-8436-8a2c4b01011b",
   "metadata": {},
   "source": [
    "min_exp=-1021   (L=-1021-1=-1022)\n",
    "\n",
    "max_exp=1024    (U=1024-1=1023)\n",
    "\n",
    "mant_dig=53 (incluso l'hidden bit)\n",
    "\n",
    "dig=15, significa che i numeri \"float\" vengono convertiti in stringhe con un massimo di 15 cifre decimali. Le cifre decimali oltre la quindicesima vengono eliminate (troncate). (solo a livello di stringa visualizzata)"
   ]
  },
  {
   "cell_type": "markdown",
   "id": "224ac7e6-31df-4f15-8ffc-9c82bd21c82e",
   "metadata": {},
   "source": [
    "- **1.**  Calcolare lo spacing in  $[2^{52}, 2^{53}]$.\n",
    "    - Sia $x=2^{52}$ individuare il numero successivo a $2^{52}$ ed assegnarlo ad una variabile  y.\n",
    "    - Cosa succede se consideriamo il valore z=x+0.5?\n",
    "    - Cosa succede se consideriamo il valore q=y+0.5?\n",
    "  "
   ]
  },
  {
   "cell_type": "code",
   "execution_count": 6,
   "id": "c5620153-4754-4fd6-b59d-2ce86cd80e1b",
   "metadata": {
    "tags": []
   },
   "outputs": [
    {
     "name": "stdout",
     "output_type": "stream",
     "text": [
      "spacing= 1.0\n",
      "x= 4503599627370496.0\n",
      "y= 4503599627370497.0\n",
      "z=x+0.5--> 4503599627370496.0\n",
      "q= 4503599627370498.0\n"
     ]
    }
   ],
   "source": [
    "beta=2.0\n",
    "p=52\n",
    "t=53\n",
    "s=beta**(p+1-t)\n",
    "print(\"spacing=\", s)\n",
    "x=2.0**52\n",
    "y=x+s\n",
    "print(\"x=\", x)\n",
    "print(\"y=\", y)\n",
    "z=x+0.5\n",
    "print(\"z=x+0.5-->\", z)\n",
    "q=y+0.5\n",
    "print(\"q=\", q)"
   ]
  },
  {
   "cell_type": "markdown",
   "id": "c73d1758-eb82-48af-8618-6dfb522dcdd6",
   "metadata": {},
   "source": [
    "- **2** Calcolare la cardinalità dell'insieme dei numeri finiti di Python"
   ]
  },
  {
   "cell_type": "code",
   "execution_count": 7,
   "id": "ed1bdde8-f1a8-4c44-af78-169c3f634933",
   "metadata": {
    "tags": []
   },
   "outputs": [
    {
     "name": "stdout",
     "output_type": "stream",
     "text": [
      "Cardinalità degli interi: 1e18\n",
      "Cardinalità dei numeri a virgola mobile (float64): 1e18\n"
     ]
    }
   ],
   "source": [
    "import sys\n",
    "beta=2.0\n",
    "L=-1022\n",
    "U=1023\n",
    "t=53\n",
    "cardin=2*(beta-1)*beta**(t-1)*(U-L+1)+1\n",
    "print(\"cardinalita'  dell'insieme dei numei finiti in Python {:10e}\".format(cardin))\n"
   ]
  },
  {
   "cell_type": "markdown",
   "id": "cee853bd-aca6-47f4-980f-7e44473f7523",
   "metadata": {},
   "source": [
    "- **3**  Verificare numericamente che $\\texttt{eps} = 2^{-52}$, spacing nell'intervallo $[1, 2]$,\n",
    "è il piu' piccolo $x$ tale che $fl(1 + x)$ è  diverso da $1$. \n"
   ]
  },
  {
   "cell_type": "code",
   "execution_count": 4,
   "id": "6015395a-2c96-47e1-b92a-b5db608b1da3",
   "metadata": {
    "tags": []
   },
   "outputs": [
    {
     "name": "stdout",
     "output_type": "stream",
     "text": [
      "spacing in [1, 2] 2.220446049250313e-16\n",
      "valore di f  1.0\n",
      "valore successivo ad f, dato da f+s= 1.0000000000000002\n",
      "f+s/2= 1.0\n"
     ]
    }
   ],
   "source": [
    "p=0\n",
    "t=53\n",
    "f=2.0**p\n",
    "s=2**(p+1-t)\n",
    "print(\"spacing in [1, 2]\", s)\n",
    "\n",
    "f1=f+s # numero floating point successivo a f\n",
    "f2=f+s/2 # risulta f\n",
    "print(\"valore di f \", f)\n",
    "print(\"valore successivo ad f, dato da f+s=\", f1)\n",
    "print(\"f+s/2=\", f2)"
   ]
  },
  {
   "cell_type": "markdown",
   "id": "35d7206c-f742-4616-b92c-91b37127a4d3",
   "metadata": {},
   "source": [
    "- **4** Costruire un numpy array costituito da n=10 valori tutti uguali a 0.1\n",
    "-     Effettuate la somma utilizzando un ciclo for.\n",
    "-     Effettuate la somma effettuando la somma con la funzione sum del modulo numpy.\n",
    "  Cosa osservate? Cercate di giustificare i risultati "
   ]
  },
  {
   "cell_type": "code",
   "execution_count": 9,
   "id": "48defff7-d4f0-48b7-8634-f838fd117211",
   "metadata": {
    "tags": []
   },
   "outputs": [
    {
     "name": "stdout",
     "output_type": "stream",
     "text": [
      "0.9999999999999999\n",
      "1.0\n"
     ]
    }
   ],
   "source": [
    "a = np.full(10, 0.1)\n",
    "somma=0\n",
    "for x in a:\n",
    "    somma+=x\n",
    "print(somma)\n",
    "somma=np.sum(a)\n",
    "print(somma)"
   ]
  },
  {
   "cell_type": "markdown",
   "id": "d19cd104-d1ea-4444-996c-0a9672063450",
   "metadata": {},
   "source": [
    "- **5.** Siano $a=1.234567890123400 e+15$, $b=-1.234567890123401 e+15$, $c=0.06$. \n",
    "  Calcolare $(a+b)+c$, $(a+c)+b$, $a+(b+c)$. Che cosa si osserva? Ripetere l'esercizio con $a=0.23371258 e-4$, $b=0.33678429 e+2$, $c=-0.33677911 e+2$."
   ]
  },
  {
   "cell_type": "code",
   "execution_count": 6,
   "id": "d69b2e6e-d4db-48df-816c-a6b2db620691",
   "metadata": {},
   "outputs": [
    {
     "name": "stdout",
     "output_type": "stream",
     "text": [
      "-0.94\n",
      "-1.0\n",
      "-1.0 -1.0\n"
     ]
    }
   ],
   "source": [
    "a = 1.234567890123400e+15\n",
    "b =-1.234567890123401e+15\n",
    "c =0.06\n",
    "print((a+b)+c)\n",
    "print((a+c)+b)\n",
    "print((𝑎+𝑐)+𝑏,𝑎+(𝑏+𝑐))"
   ]
  },
  {
   "cell_type": "markdown",
   "id": "960d25c1-9677-4b1e-92c1-c16870d520b6",
   "metadata": {},
   "source": [
    "- **6.** Si considerino le espressioni $y_1=\\sqrt{x^2+1}-x$ e $y_2=\\frac{1}{\\sqrt{x^2+1}+x}$. Calcolare il valore di $y_1$ e $y_2$ per $x=7777$ e $x=77777777$. Che cosa si osserva? Commentare i risultati ottenuti."
   ]
  },
  {
   "cell_type": "code",
   "execution_count": 7,
   "id": "708be016-0dd2-4dde-90b7-5f3408f536e6",
   "metadata": {},
   "outputs": [
    {
     "name": "stdout",
     "output_type": "stream",
     "text": [
      "y1: 6.429214317904552e-05\n",
      "y2: 6.428571492857143e-09\n"
     ]
    }
   ],
   "source": [
    "def calculate_y1_y2(x1, x2):\n",
    "    try:\n",
    "        y1 = math.sqrt((x1**2 + 1)) - x1\n",
    "        y2 = 1 / (math.sqrt(x2**2 + 1) + x2)\n",
    "        return y1, y2\n",
    "    except ValueError:\n",
    "        return None, None\n",
    "y1, y2 = calculate_y1_y2(7777, 77777777)\n",
    "print(\"y1:\", y1)\n",
    "print(\"y2:\", y2)"
   ]
  },
  {
   "cell_type": "markdown",
   "id": "e3d8c3b3-d514-41ec-a6f2-eb22311ab157",
   "metadata": {},
   "source": [
    "- **7.** Valutare in aritmetica floating point l'espressione\n",
    "$$A(x)=\\frac{1}{x}-\\frac{1}{(x+1)}$$  nel vettore   $x=[10^0, 10^1,... ,10^{20}]$ contenente potenze successive  di $10$,  Si calcoli per ogni elemento di x l'errore relativo considerando come valore esatto quello calcolato usando  l'espressione algebricamente equivalente\n",
    "$$\n",
    "B(x)=\\frac{1}{x (x+1)}.\n",
    "$$ Si visualizzi l'errore relativo in un grafico in scala logaritmica su $x$ e $y$"
   ]
  },
  {
   "cell_type": "code",
   "execution_count": 10,
   "id": "de9f90ae-afca-4294-9acd-05585d601eb7",
   "metadata": {},
   "outputs": [
    {
     "name": "stdout",
     "output_type": "stream",
     "text": [
      "[          1          10         100        1000       10000      100000\n",
      "     1000000    10000000   100000000  1000000000  1410065408  1215752192\n",
      "  -727379968  1316134912   276447232 -1530494976  1874919424  1569325056\n",
      " -1486618624 -1981284352  1661992960]\n"
     ]
    }
   ],
   "source": [
    "a=1\n",
    "c=1\n",
    "import numpy as np\n",
    "import matplotlib.pyplot as plt\n",
    "k=np.arange(1,9)\n",
    "b=10.0**k;\n",
    "print(b.shape)\n",
    "Delta= b**2-4*a*c\n",
    "\n",
    "x1=(-b+np.sqrt(Delta))/(2*a)\n",
    "x2=(-b-np.sqrt(Delta))/(2*a)\n",
    "\n",
    "x1new=c/(a*x2)\n",
    "#La soluzione esatta dell'equazione è:\n",
    "x1vera=-10.0**(-k)  #N.B. questa è la soluzione esatta per k grandi, altrimenti è un approssimazione.\n",
    "#Calcolo dell'errore relativo per il calcolo della soluzione x1\n",
    "err=np.abs(x1vera-x1)/np.abs(x1vera)\n",
    "print(err)\n",
    "#Calcolo dell'errore relativo per il calcolo della soluzione x1 con la formula alternativa\n",
    "errnew=np.abs(x1vera-x1new)/np.abs(x1vera)\n",
    "\n",
    "print(\"spacing per b**2 \",np.spacing(b**2))\n",
    "\n",
    "for i in range(b.shape[0]):\n",
    "   print(\"-b {:.16e}  b**2-> {:.16e} -4*a*c) -> {:.16e} spacing {:.16e}  b**2-4*a*c -> {:.16e}   sqrt(b**2-4*a*c) -> {:.16e}\".format(-b[i],b[i]**2,-4*a*c,np.spacing(b[i]**2),b[i]**2-4*a*c,np.sqrt(b[i]**2-4*a*c )))\n",
    "\n",
    "plt.plot(k,err,'r-',k,errnew,'b:')\n",
    "plt.yscale('log')\n",
    "plt.legend([\"err x1\", \"err xnew 1\"])"
   ]
  },
  {
   "cell_type": "markdown",
   "id": "27155dcd-6580-4e3d-aac9-fa42b717bf70",
   "metadata": {},
   "source": [
    "- **8-**  Risolvere l'equazione $x^2+10^k x+1=0$ con k in range(1,9). \n",
    "\n",
    "- Scrivere un codice Python che calcola le due radici: x1=(-b+sqrt(Delta))/2  e x2=(-b-sqrt(Delta))/2, dove Delta=b^2-4ac,  per tutti i valori di k in range(1,9)\n",
    "\n",
    "- Calcolare l'errore relativo della soluzione numerica x1 rispetto alla soluzione in aritmetica reale, che per valori di k alti è  uguale a $10^{-k}$, altrimenti è una sua approssimazione. \n",
    "\n",
    "- Visualizzare l'errore relativo per ogni valore di k.\n",
    "\n",
    "- Proporre un algoritmo aleternativo per il calcolo di una delle due soluzioni, che fornisca errore relativo inferiore."
   ]
  },
  {
   "cell_type": "code",
   "execution_count": null,
   "id": "62605dd1-616a-46c0-9454-c3d26d339080",
   "metadata": {},
   "outputs": [],
   "source": []
  },
  {
   "cell_type": "markdown",
   "id": "9f6294cc-b0df-40b8-a1f5-450f4e756ffa",
   "metadata": {},
   "source": [
    "- **9.** Scrivere uno script Matlab che fornisca le approssimazioni di $e=\\exp(1)$ ottenute con la formula\n",
    "$f(n)=(1/n+1)^n$ per $n=10^k$ e  $k=0, ..., 16$. \n",
    "\n",
    "Visualizzare  un grafico con i valori di $f(n)$ al variare di n ed un grafico con i valori dell'errore relativo (considerando come valore esatto il valore math.exp(1)).  Cosa si osserva? Commentare i risultati ottenuti."
   ]
  },
  {
   "cell_type": "code",
   "execution_count": 2,
   "id": "29588be5-afa3-4df1-8efc-efc3c24c7938",
   "metadata": {},
   "outputs": [
    {
     "data": {
      "image/png": "[encoded data removed]",
      "text/plain": [
       "<Figure size 640x480 with 1 Axes>"
      ]
     },
     "metadata": {},
     "output_type": "display_data"
    },
    {
     "data": {
      "image/png": "[encoded data removed]",
      "text/plain": [
       "<Figure size 640x480 with 1 Axes>"
      ]
     },
     "metadata": {},
     "output_type": "display_data"
    }
   ],
   "source": [
    "import matplotlib.pyplot as plt\n",
    "import math\n",
    "def calculate_f(n):\n",
    "    return (1 + 1/n)**n\n",
    "e = math.exp(1)\n",
    "# array per memorizzare i valori di n, f(n) e l'errore relativo\n",
    "n_values = []\n",
    "f_values = []\n",
    "relative_errors = []\n",
    "\n",
    "# calcolo delle approssimazioni di e e degli errori relativi\n",
    "for k in range(17):\n",
    "    n=10**k\n",
    "    f_n = calculate_f(n)\n",
    "    error = abs(f_n - e) / e\n",
    "    \n",
    "    n_values.append(n)\n",
    "    f_values.append(f_n)\n",
    "    relative_errors.append(error)\n",
    "\n",
    "# grafico dei valori di f(n) al variare di n\n",
    "plt.figure()\n",
    "plt.semilogx(n_values, f_values, '-o')\n",
    "plt.title(\"Approssimazioni di e in funzione di n\")\n",
    "plt.xlabel('n')\n",
    "plt.ylabel('f(n)')\n",
    "\n",
    "# Grafico dell'errore relativo al variare di n\n",
    "plt.figure()\n",
    "plt.semilogx(n_values, relative_errors, '-o')\n",
    "plt.title('Errore relativo delle approssimazioni di e')\n",
    "plt.xlabel('n')\n",
    "plt.ylabel('Errore relativo')\n",
    "\n",
    "plt.show()"
   ]
  },
  {
   "cell_type": "code",
   "execution_count": null,
   "id": "00bbdaf9-699c-4690-a4ac-07b0605a1807",
   "metadata": {},
   "outputs": [],
   "source": []
  }
 ],
 "metadata": {
  "kernelspec": {
   "display_name": "Python 3 (ipykernel)",
   "language": "python",
   "name": "python3"
  },
  "language_info": {
   "codemirror_mode": {
    "name": "ipython",
    "version": 3
   },
   "file_extension": ".py",
   "mimetype": "text/x-python",
   "name": "python",
   "nbconvert_exporter": "python",
   "pygments_lexer": "ipython3",
   "version": "3.11.5"
  }
 },
 "nbformat": 4,
 "nbformat_minor": 5
}
