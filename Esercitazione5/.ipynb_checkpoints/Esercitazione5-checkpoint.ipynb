{
 "cells": [
  {
   "cell_type": "markdown",
   "id": "d2903ef7-4c36-4b4f-b8dd-01fa2f35dfc5",
   "metadata": {},
   "source": [
    "## Esercitazione 5  del    19 Marzo 2024 \n"
   ]
  },
  {
   "cell_type": "markdown",
   "id": "a3f2d7cc-2f95-467a-af5e-d9cd0c4fcad2",
   "metadata": {},
   "source": [
    "## Esercizio 1 \n",
    "Si consideri l'equazione quadratica $x^2 + 2px - q = 0 $ con $p=10^5$ e $q=10^{-i}$, i=0,..,10\n",
    "\n",
    "- Si stabilisca se il problema relativo al calcolo della soluzione $x= -p+\\sqrt{p^2+q}$ risulta essere ben\n",
    "      condizionato per tutti i valori di q assegnati;\n",
    "\n",
    "- Si calcoli la soluzione x dell'equazione mediante la formula risolutiva indicata al punto precedente e si dica se l'algoritmo di calcolo risulta numericamente\n",
    "stabile  per i valori di q assegnati\n",
    "\n",
    "- si individui una forma stabile per il calcolo della soluzione e si verifichi se l'algoritmo di calcolo risulta numericamente stabile per i valori di q assegnati."
   ]
  },
  {
   "cell_type": "markdown",
   "id": "a4e21560-1013-4ae3-aa74-6b1f27198cf5",
   "metadata": {},
   "source": [
    "## Esercizio 2"
   ]
  },
  {
   "cell_type": "markdown",
   "id": "535f46cb-ded4-4f6f-a9b0-87815d033a30",
   "metadata": {},
   "source": [
    "Realizzate un codice python che implementa il seguente algoritmo. Si tratta dell'implementazione del  metodo di Archimede per l'approssimazione di pi-greco e genera una successione di valori $p_i$, i=1,n, (n scelto dall'utente) che tende a $\\pi$. Verificare se all'aumentare di n, la successione $p_i$ tende a $\\pi$.\n",
    "\n",
    "b[0]=2\n",
    "\n",
    "s[0]=1\n",
    "\n",
    "for i in range(1,n):\n",
    "\n",
    "    p[i]=b[i-1]*s[i-1]\n",
    "    b[i]=2*b[i-1]\n",
    "     s[i]=math.sqrt((1.0-math.sqrt(1-s[i-1]**2))/2.0)\n",
    "\n",
    "- Visualizzate su un grafico gli elementi della successione p[i] calcolata Calcolate e visualizzate su un grafico l'errore relativo per ogni componente di p[i], - considerando come valore esatto di pigreco il valore math.pi.\n",
    "\n",
    "- Giustificate i risultati alla luce della teoria.\n",
    "\n",
    "- Proponete una versione stabile dell'algoritmo\n",
    "\n",
    "- Calcolate e visualizzate su un grafico l'errore relativo per ogni componente di p[i] prodotta dall'algoritmo stabilizzato, considerando come valore esatto di\n",
    "pigreco il valore math.pi."
   ]
  },
  {
   "cell_type": "markdown",
   "id": "b7609125-16d1-4652-8945-8128d7ba1ca4",
   "metadata": {},
   "source": [
    "## Esercizio 3   \n",
    "Si consideri lo sviluppo in serie dell'esponenziale $e^x=1+x+\\frac{1}{2!}x^2+\\frac{1}{3!}x^3+\\cdots =\\sum_{k=0}^\\infty \\frac{x^k}{k!} $. Si calcoli un'approssimazione dell'esponenziale troncando ad N=100 termini la serie, per valori di x che variano da -10 a 10 incluso. Si calcoli  per ogni valore di x l'errore relativo del valore approssimato rispetto al valore esatto, ottenuto mediante la funzione exp della libreria numpy. Cosa si osserva? Pensare ad un algoritmo più stabile ricordando che $e^{-x}=\\frac{1}{e^{|x|}}$.\n",
    "\n"
   ]
  },
  {
   "cell_type": "markdown",
   "id": "0205da67-2ed7-4f56-beb7-33b5e38b8216",
   "metadata": {},
   "source": [
    "## Esercizio 4\n",
    "Calcolare l'approssimazione della derivata prima di f(x) = sin(x) in x = 1\n",
    "mediante l'algoritmo del rapporto incrementale (f(x + h) - f(x))/h per valori decrescenti\n",
    "di h, confrontandolo con il valore fornito dalla funzione di libreria per f'(x)\n",
    "mediante calcolo dell'errore relativo."
   ]
  },
  {
   "cell_type": "markdown",
   "id": "abac6a8f-c24b-4b1b-9a3f-71dc3f44fca5",
   "metadata": {},
   "source": [
    "## Esercizio 5\n",
    "Valutazione di un polinomio in un vettore di punti\n",
    "-   Realizzare una function  che mediante lo schema di Horner  valuti un polinomio in un vettore di punti.\n",
    "-   Realizzare una function  che utilizzi l’algoritmo classico per valutare un polinomio in un vettore di punti.\n",
    "-   Valutare   i seguenti polinomi, con i due metodi implementati nei punti precedenti,  sul vettore di punti specificato  e  rappresentarli graficamente. Confrontarne i tempi \n",
    "\n",
    "         p(x)=x^8-16x^7+112x^6-448x^5+1120x^4-1792x^3+1792x^2-1024x+256  da valutare su vettore di  1000000 punti equidistanti in [1.8,2.2]\n",
    "         p(x)= x^11 –8 x^9 +28 x^6 –7 x^4 +12 x^3 –4 x +1   da valutare su vettore di 1000000  punti in [-5:5]\n",
    "         \n",
    "Cosa conferma questo esperimento?\n"
   ]
  },
  {
   "cell_type": "markdown",
   "id": "eb1590d6-07fb-4447-995d-cfedd5d3a613",
   "metadata": {},
   "source": [
    "## Esercizio 6\n",
    "Realizzare un codice python che calcola il valore del polinomio p(x)=(x-2)^8 utilizzando le formule\n",
    "\n",
    "    p=x^8-16x^7+112x^6-448x^5+1120x^4-1792x^3+1792x^2-1024x+256;\n",
    "    p(x)=(x-2)^8\n",
    "    e lo schema di Horner\n",
    "\n",
    "e ne realizza il grafico in un vettore di 10000 equidistanti nell’intervallo [1.8,2.2], [1.9, 2.1],  [1.92,2.08], [1.93,2.07], [1.94,2.06] Spiegare il comportamento osservato. Cosa succede al restringersi dell’intervallo intorno al valore 2, punto in cui questo polinomio si annulla?\n"
   ]
  }
 ],
 "metadata": {
  "kernelspec": {
   "display_name": "Python 3 (ipykernel)",
   "language": "python",
   "name": "python3"
  },
  "language_info": {
   "codemirror_mode": {
    "name": "ipython",
    "version": 3
   },
   "file_extension": ".py",
   "mimetype": "text/x-python",
   "name": "python",
   "nbconvert_exporter": "python",
   "pygments_lexer": "ipython3",
   "version": "3.11.7"
  }
 },
 "nbformat": 4,
 "nbformat_minor": 5
}
